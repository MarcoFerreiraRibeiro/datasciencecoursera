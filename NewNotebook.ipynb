{
 "cells": [
  {
   "cell_type": "markdown",
   "metadata": {},
   "source": [
    "\n",
    "Title of the Notebook\n",
    "\n",
    "\n",
    "\n",
    "\n",
    "\n"
   ]
  },
  {
   "cell_type": "markdown",
   "metadata": {},
   "source": [
    "Introduction\n",
    "\n",
    "This is the introduction fo the Notebook\n"
   ]
  },
  {
   "cell_type": "markdown",
   "metadata": {},
   "source": [
    "List of Data Science programming languages:\n",
    "    Python;\n",
    "    R;\n",
    "    SQL;\n",
    "    MATLAB;\n",
    "    Julia;\n",
    "    SAS;\n",
    "    Scala;\n",
    "    Java;\n",
    "    Ruby; and\n",
    "    JavaScript\n"
   ]
  },
  {
   "cell_type": "markdown",
   "metadata": {},
   "source": [
    "List of libreries: NumPy; Pandas; Matplotlib; Seaborn; Scikit-learn; TensorFlow; Keras; PyTorch; NLTK; and Statsmodels"
   ]
  },
  {
   "cell_type": "markdown",
   "metadata": {},
   "source": [
    "Table of Data Science Tools:"
   ]
  },
  {
   "cell_type": "markdown",
   "metadata": {},
   "source": [
    "| Tool | Description |\n",
    "| --- | --- |\n",
    "| Python | General-purpose programming language with numerous data science libraries such as NumPy, Pandas, and Scikit-learn |\n",
    "| R | Programming language specifically designed for statistical computing and graphics |\n",
    "| SQL | Language used for managing relational databases |\n",
    "| Tableau | Business intelligence and data visualization tool |\n",
    "| TensorFlow | Open-source machine learning framework developed by Google |\n",
    "| PyTorch | Open-source machine learning library for Python |\n",
    "| Keras | High-level neural networks API written in Python |\n",
    "| SAS | Suite of software for advanced analytics, business intelligence, and data management |\n",
    "| Excel | Spreadsheet software used for data analysis and visualization |\n",
    "| MATLAB | Proprietary programming language and development environment for numerical computing |\n",
    "| Apache Spark | Open-source distributed computing system for big data processing |\n"
   ]
  },
  {
   "cell_type": "markdown",
   "metadata": {},
   "source": [
    "\n"
   ]
  },
  {
   "cell_type": "markdown",
   "metadata": {},
   "source": [
    "Arithmetic expression examples in Python:"
   ]
  },
  {
   "cell_type": "markdown",
   "metadata": {},
   "source": [
    "| Expression     | Operation       |\n",
    "| -------------- | --------------- |\n",
    "| 2 + 3          | Addition        |\n",
    "| 6 - 4          | Subtraction     |\n",
    "| 5 * 2          | Multiplication  |\n",
    "| 10 / 2         | Division        |\n"
   ]
  },
  {
   "cell_type": "markdown",
   "metadata": {},
   "source": [
    "Code cell to multiply and add numbers in Python:"
   ]
  },
  {
   "cell_type": "code",
   "execution_count": 4,
   "metadata": {},
   "outputs": [
    {
     "name": "stdout",
     "output_type": "stream",
     "text": [
      "The product is: 35\n",
      "The sum is: 12\n"
     ]
    }
   ],
   "source": [
    "x = 5\n",
    "y = 7\n",
    "product = x * y\n",
    "sum = x + y\n",
    "print(\"The product is:\", product)\n",
    "print(\"The sum is:\", sum)\n"
   ]
  },
  {
   "cell_type": "markdown",
   "metadata": {},
   "source": [
    "Code cell to convert minutes to hours:"
   ]
  },
  {
   "cell_type": "code",
   "execution_count": 5,
   "metadata": {},
   "outputs": [
    {
     "name": "stdout",
     "output_type": "stream",
     "text": [
      "The equivalent hours is: 2.0\n"
     ]
    }
   ],
   "source": [
    "minutes = 120\n",
    "hours = minutes / 60\n",
    "print(\"The equivalent hours is:\", hours)"
   ]
  },
  {
   "cell_type": "markdown",
   "metadata": {},
   "source": [
    "MY Objectives: Learn the basics of data science and machine learning and understand the fundamentals of Python programming language."
   ]
  },
  {
   "cell_type": "markdown",
   "metadata": {},
   "source": [
    "\n",
    "\n",
    "Author’s name: Marco\n",
    "\n"
   ]
  }
 ],
 "metadata": {
  "kernelspec": {
   "display_name": "Python 3",
   "language": "python",
   "name": "python3"
  },
  "language_info": {
   "codemirror_mode": {
    "name": "ipython",
    "version": 3
   },
   "file_extension": ".py",
   "mimetype": "text/x-python",
   "name": "python",
   "nbconvert_exporter": "python",
   "pygments_lexer": "ipython3",
   "version": "3.7.3"
  }
 },
 "nbformat": 4,
 "nbformat_minor": 2
}
